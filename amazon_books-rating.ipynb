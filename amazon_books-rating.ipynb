{
 "cells": [
  {
   "cell_type": "code",
   "execution_count": 1,
   "id": "e6988373-cfa8-4467-b668-4b5d9291f00f",
   "metadata": {},
   "outputs": [],
   "source": [
    "import pandas as pd\n",
    "import nltk\n",
    "from nltk.sentiment import SentimentIntensityAnalyzer\n",
    "from sklearn.preprocessing import MinMaxScaler\n",
    "from sklearn.model_selection import train_test_split\n",
    "\n"
   ]
  },
  {
   "cell_type": "code",
   "execution_count": 2,
   "id": "3b034df6-1d4b-4b2d-9be9-c22f26fe295e",
   "metadata": {},
   "outputs": [
    {
     "name": "stdout",
     "output_type": "stream",
     "text": [
      "#Créer une instance du SentimentIntensityAnalyzer de NLTK\n"
     ]
    }
   ],
   "source": [
    "data = pd.read_csv('cleaned_dataset/cleaned_data.csv')\n",
    "print(\"#Créer une instance du SentimentIntensityAnalyzer de NLTK\")\n",
    "\n",
    "sia = SentimentIntensityAnalyzer()"
   ]
  },
  {
   "cell_type": "code",
   "execution_count": null,
   "id": "ab6fca38-de33-40fd-8431-0e1e35136edf",
   "metadata": {},
   "outputs": [],
   "source": [
    "print(\"#Calculer la valeur du score du commentaire normalisée\")\n",
    "\n",
    "data['normalized_score'] = data['review/text'].apply(lambda x: sia.polarity_scores(str(x))['compound'])\n",
    "\n",
    "print(\"#Normaliser les scores dans l'intervalle [0, 1]\")"
   ]
  },
  {
   "cell_type": "code",
   "execution_count": null,
   "id": "465a9dd5",
   "metadata": {},
   "outputs": [],
   "source": [
    "scaler = MinMaxScaler()\n",
    "data['normalized_score'] = scaler.fit_transform(data[['normalized_score']])\n",
    "print(\"#Créer le score hybride\")"
   ]
  },
  {
   "cell_type": "code",
   "execution_count": null,
   "id": "1d39b9f8",
   "metadata": {},
   "outputs": [],
   "source": [
    "\n",
    "data['hybrid_score'] = data['review/score'] * data['normalized_score']\n",
    "\n",
    "print(data[['normalized_score','review/score', 'hybrid_score']].head())"
   ]
  }
 ],
 "metadata": {
  "kernelspec": {
   "display_name": "Python 3 (ipykernel)",
   "language": "python",
   "name": "python3"
  },
  "language_info": {
   "codemirror_mode": {
    "name": "ipython",
    "version": 3
   },
   "file_extension": ".py",
   "mimetype": "text/x-python",
   "name": "python",
   "nbconvert_exporter": "python",
   "pygments_lexer": "ipython3",
   "version": "3.11.6"
  }
 },
 "nbformat": 4,
 "nbformat_minor": 5
}
