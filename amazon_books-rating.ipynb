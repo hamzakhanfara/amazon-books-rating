{
 "cells": [
  {
   "cell_type": "code",
   "execution_count": 1,
   "id": "e6988373-cfa8-4467-b668-4b5d9291f00f",
   "metadata": {},
   "outputs": [],
   "source": [
    "import pandas as pd\n",
    "import nltk\n",
    "from nltk.sentiment import SentimentIntensityAnalyzer\n",
    "from sklearn.preprocessing import MinMaxScaler\n",
    "from sklearn.model_selection import train_test_split\n",
    "\n"
   ]
  },
  {
   "cell_type": "code",
   "execution_count": 2,
   "id": "3b034df6-1d4b-4b2d-9be9-c22f26fe295e",
   "metadata": {
    "scrolled": true
   },
   "outputs": [],
   "source": [
    "data = pd.read_csv('analyzed_dataset/analyzed_data.csv')"
   ]
  },
  {
   "cell_type": "markdown",
   "id": "78345655-98f7-42bd-87a4-5840735ec4bf",
   "metadata": {},
   "source": [
    "# Sélectionner les colonnes nécessaires pour X et y"
   ]
  },
  {
   "cell_type": "code",
   "execution_count": 3,
   "id": "f8ab0a57-1457-49fb-9fc6-d17d0aee24f0",
   "metadata": {},
   "outputs": [
    {
     "name": "stdout",
     "output_type": "stream",
     "text": [
      "   normalized_score  review/score  hybrid_score\n",
      "0           0.97040           4.0       3.88160\n",
      "1           0.99380           5.0       4.96900\n",
      "2           0.99675           5.0       4.98375\n",
      "3           0.99035           4.0       3.96140\n",
      "4           0.99015           4.0       3.96060\n"
     ]
    }
   ],
   "source": [
    "print(data[['normalized_score','review/score', 'hybrid_score']].head())"
   ]
  },
  {
   "cell_type": "code",
   "execution_count": 4,
   "id": "65c859a7-80df-44c4-a5cf-e29f7eda08cf",
   "metadata": {},
   "outputs": [],
   "source": [
    "X = data[['User_id', 'Id']]\n",
    "y = data['hybrid_score']"
   ]
  },
  {
   "cell_type": "code",
   "execution_count": 5,
   "id": "15927f39-560f-40bd-818f-080cd025fde9",
   "metadata": {},
   "outputs": [],
   "source": [
    "X_train, X_test, y_train, y_test = train_test_split(X, y, test_size=0.25, shuffle=True, random_state=42)"
   ]
  },
  {
   "cell_type": "markdown",
   "id": "e4a05932-2bd2-4246-937e-86b07632f3f4",
   "metadata": {},
   "source": [
    "# Afficher les premières lignes des ensembles d'entraînement et de test"
   ]
  },
  {
   "cell_type": "code",
   "execution_count": 6,
   "id": "bc5dff97-f866-4154-b363-4bd8ed02c863",
   "metadata": {},
   "outputs": [
    {
     "name": "stdout",
     "output_type": "stream",
     "text": [
      "Ensemble d'entraînement (X_train, y_train):\n",
      "                User_id          Id\n",
      "584260   A2BWQ2C3QW32YP  9626341963\n",
      "1361441  A1W9W3LK82RE3B  0060193921\n",
      "825918    A172JDGLV9FFX  B000I15I9E\n",
      "1262949  A3KF4IP2MUS8QQ  B0001PIOYI\n",
      "916148    AFD897EN2OAF7  0373193734\n",
      "584260     4.96950\n",
      "1361441    0.16500\n",
      "825918     0.09765\n",
      "1262949    0.00900\n",
      "916148     1.97800\n",
      "Name: hybrid_score, dtype: float64\n",
      "\n",
      "Ensemble de test (X_test, y_test):\n",
      "                User_id          Id\n",
      "803721   A1WTVXLJDU7JLW  1573928461\n",
      "1522453  A2OIGKC7XMRR06  0312174918\n",
      "852013    AXDCA2CU2BNSG  0397514999\n",
      "1185591   ACW335MGH4TMY  B000F6H01Q\n",
      "760989    AEP9LH0OOB3EX  B0006DX0OE\n",
      "803721     4.75250\n",
      "1522453    4.97250\n",
      "852013     2.81875\n",
      "1185591    4.22700\n",
      "760989     4.96400\n",
      "Name: hybrid_score, dtype: float64\n"
     ]
    }
   ],
   "source": [
    "print(\"Ensemble d'entraînement (X_train, y_train):\")\n",
    "print(X_train.head())\n",
    "print(y_train.head())\n",
    "\n",
    "print(\"\\nEnsemble de test (X_test, y_test):\")\n",
    "print(X_test.head())\n",
    "print(y_test.head())"
   ]
  },
  {
   "cell_type": "markdown",
   "id": "aa12a530-8feb-4840-9cc2-ae74579e9823",
   "metadata": {},
   "source": [
    "# Importer les classes nécessaires depuis le module surprise"
   ]
  },
  {
   "cell_type": "code",
   "execution_count": 7,
   "id": "fcaa9104-70e5-450d-82bf-bd35dfdd40e2",
   "metadata": {},
   "outputs": [],
   "source": [
    "from surprise import Reader, Dataset\n",
    "from surprise.model_selection import train_test_split\n",
    "from surprise import KNNWithMeans\n",
    "from surprise import accuracy"
   ]
  },
  {
   "cell_type": "markdown",
   "id": "0d28200f-f4e1-40b2-82ea-02a7cf667fa0",
   "metadata": {},
   "source": [
    "# Charger les données dans le format attendu par Surprise"
   ]
  },
  {
   "cell_type": "code",
   "execution_count": 8,
   "id": "7df0264b-52e3-4975-a4b9-47e97f0cc5b5",
   "metadata": {},
   "outputs": [],
   "source": [
    "reader = Reader(rating_scale=(0, 1))\n",
    "data = Dataset.load_from_df(pd.concat([X_train, y_train], axis=1), reader)"
   ]
  },
  {
   "cell_type": "markdown",
   "id": "216aa266-fd2d-4c48-8c7d-362dcae9490c",
   "metadata": {},
   "source": [
    "# Diviser les données en ensembles d'entraînement et de test"
   ]
  },
  {
   "cell_type": "code",
   "execution_count": 10,
   "id": "465a9dd5",
   "metadata": {},
   "outputs": [],
   "source": [
    "trainset, testset = train_test_split(data, test_size=0.25,shuffle=True, random_state=42)"
   ]
  },
  {
   "cell_type": "markdown",
   "id": "ecaa3741-a013-46ff-abd0-a5e61bdbf201",
   "metadata": {},
   "source": [
    "# Choisir le modèle KNNwithMeans avec une approche 'user-based'"
   ]
  },
  {
   "cell_type": "code",
   "execution_count": 11,
   "id": "8cebca3a-482b-42f2-a40c-aa8fe349a989",
   "metadata": {},
   "outputs": [],
   "source": [
    "knn_model = KNNWithMeans(k=25, sim_options={'user_based': True})"
   ]
  },
  {
   "cell_type": "markdown",
   "id": "0cb0e6c4-ac63-4053-bfc1-802d2234e758",
   "metadata": {},
   "source": [
    "# Entraîner le modèle sur l'ensemble d'entraînement"
   ]
  },
  {
   "cell_type": "code",
   "execution_count": 12,
   "id": "cfb6850c-7c23-4e4b-ad24-426f6147d90f",
   "metadata": {},
   "outputs": [
    {
     "name": "stdout",
     "output_type": "stream",
     "text": [
      "Computing the msd similarity matrix...\n"
     ]
    },
    {
     "ename": "MemoryError",
     "evalue": "Unable to allocate 588. GiB for an array with shape (281041, 281041) and data type float64",
     "output_type": "error",
     "traceback": [
      "\u001b[0;31m---------------------------------------------------------------------------\u001b[0m",
      "\u001b[0;31mMemoryError\u001b[0m                               Traceback (most recent call last)",
      "Cell \u001b[0;32mIn[12], line 1\u001b[0m\n\u001b[0;32m----> 1\u001b[0m \u001b[43mknn_model\u001b[49m\u001b[38;5;241;43m.\u001b[39;49m\u001b[43mfit\u001b[49m\u001b[43m(\u001b[49m\u001b[43mtrainset\u001b[49m\u001b[43m)\u001b[49m\n",
      "File \u001b[0;32m~/env-big-data/lib/python3.11/site-packages/surprise/prediction_algorithms/knns.py:176\u001b[0m, in \u001b[0;36mKNNWithMeans.fit\u001b[0;34m(self, trainset)\u001b[0m\n\u001b[1;32m    173\u001b[0m \u001b[38;5;28;01mdef\u001b[39;00m \u001b[38;5;21mfit\u001b[39m(\u001b[38;5;28mself\u001b[39m, trainset):\n\u001b[1;32m    175\u001b[0m     SymmetricAlgo\u001b[38;5;241m.\u001b[39mfit(\u001b[38;5;28mself\u001b[39m, trainset)\n\u001b[0;32m--> 176\u001b[0m     \u001b[38;5;28mself\u001b[39m\u001b[38;5;241m.\u001b[39msim \u001b[38;5;241m=\u001b[39m \u001b[38;5;28;43mself\u001b[39;49m\u001b[38;5;241;43m.\u001b[39;49m\u001b[43mcompute_similarities\u001b[49m\u001b[43m(\u001b[49m\u001b[43m)\u001b[49m\n\u001b[1;32m    178\u001b[0m     \u001b[38;5;28mself\u001b[39m\u001b[38;5;241m.\u001b[39mmeans \u001b[38;5;241m=\u001b[39m np\u001b[38;5;241m.\u001b[39mzeros(\u001b[38;5;28mself\u001b[39m\u001b[38;5;241m.\u001b[39mn_x)\n\u001b[1;32m    179\u001b[0m     \u001b[38;5;28;01mfor\u001b[39;00m x, ratings \u001b[38;5;129;01min\u001b[39;00m \u001b[38;5;28mself\u001b[39m\u001b[38;5;241m.\u001b[39mxr\u001b[38;5;241m.\u001b[39mitems():\n",
      "File \u001b[0;32m~/env-big-data/lib/python3.11/site-packages/surprise/prediction_algorithms/algo_base.py:248\u001b[0m, in \u001b[0;36mAlgoBase.compute_similarities\u001b[0;34m(self)\u001b[0m\n\u001b[1;32m    246\u001b[0m \u001b[38;5;28;01mif\u001b[39;00m \u001b[38;5;28mgetattr\u001b[39m(\u001b[38;5;28mself\u001b[39m, \u001b[38;5;124m\"\u001b[39m\u001b[38;5;124mverbose\u001b[39m\u001b[38;5;124m\"\u001b[39m, \u001b[38;5;28;01mFalse\u001b[39;00m):\n\u001b[1;32m    247\u001b[0m     \u001b[38;5;28mprint\u001b[39m(\u001b[38;5;124mf\u001b[39m\u001b[38;5;124m\"\u001b[39m\u001b[38;5;124mComputing the \u001b[39m\u001b[38;5;132;01m{\u001b[39;00mname\u001b[38;5;132;01m}\u001b[39;00m\u001b[38;5;124m similarity matrix...\u001b[39m\u001b[38;5;124m\"\u001b[39m)\n\u001b[0;32m--> 248\u001b[0m sim \u001b[38;5;241m=\u001b[39m \u001b[43mconstruction_func\u001b[49m\u001b[43m[\u001b[49m\u001b[43mname\u001b[49m\u001b[43m]\u001b[49m\u001b[43m(\u001b[49m\u001b[38;5;241;43m*\u001b[39;49m\u001b[43margs\u001b[49m\u001b[43m)\u001b[49m\n\u001b[1;32m    249\u001b[0m \u001b[38;5;28;01mif\u001b[39;00m \u001b[38;5;28mgetattr\u001b[39m(\u001b[38;5;28mself\u001b[39m, \u001b[38;5;124m\"\u001b[39m\u001b[38;5;124mverbose\u001b[39m\u001b[38;5;124m\"\u001b[39m, \u001b[38;5;28;01mFalse\u001b[39;00m):\n\u001b[1;32m    250\u001b[0m     \u001b[38;5;28mprint\u001b[39m(\u001b[38;5;124m\"\u001b[39m\u001b[38;5;124mDone computing similarity matrix.\u001b[39m\u001b[38;5;124m\"\u001b[39m)\n",
      "File \u001b[0;32m~/env-big-data/lib/python3.11/site-packages/surprise/similarities.pyx:125\u001b[0m, in \u001b[0;36msurprise.similarities.msd\u001b[0;34m()\u001b[0m\n",
      "\u001b[0;31mMemoryError\u001b[0m: Unable to allocate 588. GiB for an array with shape (281041, 281041) and data type float64"
     ]
    }
   ],
   "source": [
    "knn_model.fit(trainset)"
   ]
  },
  {
   "cell_type": "markdown",
   "id": "c363a1c2-997a-4155-8831-a155372abbec",
   "metadata": {},
   "source": [
    "# Faire des prédictions sur l'ensemble de test"
   ]
  },
  {
   "cell_type": "code",
   "execution_count": null,
   "id": "495d8471-31d8-4297-bc79-9a99b27cfa40",
   "metadata": {},
   "outputs": [],
   "source": [
    "predictions = knn_model.test(testset)"
   ]
  },
  {
   "cell_type": "markdown",
   "id": "4fd7165d-893a-412b-9ef4-12fcf49378fc",
   "metadata": {},
   "source": [
    "# Calculer et imprimer la RMSE (Root Mean Squared Error) pour évaluer les performances du modèle"
   ]
  },
  {
   "cell_type": "code",
   "execution_count": null,
   "id": "0fde29ff-76f7-4583-948d-773dc176cb67",
   "metadata": {},
   "outputs": [],
   "source": [
    "rmse = accuracy.rmse(predictions)\n",
    "print(f'RMSE: {rmse}')"
   ]
  }
 ],
 "metadata": {
  "kernelspec": {
   "display_name": "Python 3 (ipykernel)",
   "language": "python",
   "name": "python3"
  },
  "language_info": {
   "codemirror_mode": {
    "name": "ipython",
    "version": 3
   },
   "file_extension": ".py",
   "mimetype": "text/x-python",
   "name": "python",
   "nbconvert_exporter": "python",
   "pygments_lexer": "ipython3",
   "version": "3.11.6"
  }
 },
 "nbformat": 4,
 "nbformat_minor": 5
}
